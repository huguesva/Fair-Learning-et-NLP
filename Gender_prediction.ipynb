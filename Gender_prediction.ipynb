{
 "cells": [
  {
   "cell_type": "code",
   "execution_count": 1,
   "metadata": {},
   "outputs": [],
   "source": [
    "import numpy as np\n",
    "import pandas as pd\n",
    "import matplotlib.pyplot as plt\n",
    "import pickle\n",
    "import xgboost\n",
    "from sklearn.linear_model import LogisticRegression\n",
    "from sklearn.preprocessing import StandardScaler\n",
    "from sklearn.metrics import accuracy_score"
   ]
  },
  {
   "cell_type": "markdown",
   "metadata": {},
   "source": [
    "### Data loading"
   ]
  },
  {
   "cell_type": "code",
   "execution_count": 2,
   "metadata": {},
   "outputs": [],
   "source": [
    "#Labels:\n",
    "Gen = np.ravel(pickle.load(open('Gen.pkl','rb')))\n",
    "\n",
    "#BOW encodings:\n",
    "X_bw = pickle.load(open('X_bw.pkl','rb'))\n",
    "X_bw_nogen = pickle.load(open('X_bw_nogen.pkl','rb'))\n",
    "\n",
    "#Fasttext embeddings:\n",
    "X_fasttext = pickle.load(open('X_fasttext.pkl','rb'))\n",
    "X_fasttext_nogen = pickle.load(open('X_fasttext_nogen.pkl','rb'))"
   ]
  },
  {
   "cell_type": "code",
   "execution_count": 3,
   "metadata": {},
   "outputs": [
    {
     "name": "stderr",
     "output_type": "stream",
     "text": [
      "/Users/hugues/anaconda3/lib/python3.7/site-packages/sklearn/preprocessing/data.py:625: DataConversionWarning: Data with input dtype int8 were all converted to float64 by StandardScaler.\n",
      "  return self.partial_fit(X, y)\n",
      "/Users/hugues/anaconda3/lib/python3.7/site-packages/sklearn/base.py:462: DataConversionWarning: Data with input dtype int8 were all converted to float64 by StandardScaler.\n",
      "  return self.fit(X, **fit_params).transform(X)\n"
     ]
    },
    {
     "data": {
      "text/plain": [
       "array([[ 0.28825465,  0.6467136 ,  0.4008463 , ..., -0.61862257,\n",
       "        -0.76133872, -0.23606496],\n",
       "       [-1.50290277,  0.0191517 , -0.25294741, ...,  0.79508461,\n",
       "         1.51577129,  0.5508956 ],\n",
       "       [ 0.66244361,  0.03831309,  1.13604304, ...,  0.9582038 ,\n",
       "         0.05723631, -1.03836308],\n",
       "       ...,\n",
       "       [ 0.44869188, -0.46052711,  0.64322393, ..., -0.88554879,\n",
       "         0.62277442, -0.07430039],\n",
       "       [-1.09060965, -0.09254246,  1.19791272, ..., -1.90354974,\n",
       "         1.80627611,  1.03872259],\n",
       "       [ 1.06767497, -0.55007522,  0.00863317, ...,  0.76004191,\n",
       "        -0.16019708, -0.62814494]])"
      ]
     },
     "execution_count": 3,
     "metadata": {},
     "output_type": "execute_result"
    }
   ],
   "source": [
    "#We scale X in order to be able to compare the weights of our model later:\n",
    "scaler1 = StandardScaler()\n",
    "scaler1.fit_transform(X_bw)\n",
    "\n",
    "scaler2 = StandardScaler()\n",
    "scaler2.fit_transform(X_fasttext)"
   ]
  },
  {
   "cell_type": "code",
   "execution_count": 3,
   "metadata": {},
   "outputs": [],
   "source": [
    "split_eval = int(0.7*len(X_bw))\n",
    "split = int(0.8*len(X_bw))\n",
    "    \n",
    "#Train sets:\n",
    "X_bw_train = X_bw[:split_eval]\n",
    "X_bw_nogen_train = X_bw_nogen[:split_eval]\n",
    "X_fasttext_train = X_fasttext[:split_eval]\n",
    "X_fasttext_nogen_train = X_fasttext_nogen[:split_eval]\n",
    "Gen_train = Gen[:split_eval]\n",
    "\n",
    "#Eval sets:\n",
    "X_bw_eval = X_bw[split_eval:split]\n",
    "X_bw_nogen_eval = X_bw_nogen[split_eval:split]\n",
    "X_fasttext_eval = X_fasttext[split_eval:split]\n",
    "X_fasttext_nogen_eval = X_fasttext_nogen[split_eval:split]\n",
    "Gen_eval = Gen[split_eval:split]\n",
    "\n",
    "#Test sets:\n",
    "X_bw_test = X_bw[split:]\n",
    "X_bw_nogen_test = X_bw_nogen[split:]\n",
    "X_fasttext_test = X_fasttext[split:]\n",
    "X_fasttext_nogen_test = X_fasttext_nogen[split:]\n",
    "Gen_test = Gen[split:] "
   ]
  },
  {
   "cell_type": "markdown",
   "metadata": {},
   "source": [
    "# Gender prediction"
   ]
  },
  {
   "cell_type": "markdown",
   "metadata": {},
   "source": [
    "We are first going to try to predict the gender of the person giving his/her short biography. This will enable us to measure the efficiency of our \"Gender informations removal\"."
   ]
  },
  {
   "cell_type": "markdown",
   "metadata": {},
   "source": [
    "## Bag of Words encoding"
   ]
  },
  {
   "cell_type": "markdown",
   "metadata": {},
   "source": [
    "### With Gender information"
   ]
  },
  {
   "cell_type": "markdown",
   "metadata": {},
   "source": [
    "We first feed our model with the complete biographies and try to gain insights into which words play a role in the decision."
   ]
  },
  {
   "cell_type": "markdown",
   "metadata": {},
   "source": [
    "First, with the logistic regression as described in the paper, it is interesting to look at the weights (taken as feature importance)."
   ]
  },
  {
   "cell_type": "code",
   "execution_count": 4,
   "metadata": {},
   "outputs": [],
   "source": [
    "def feature_importance_logreg(model, X, n_features=20):\n",
    "    feature_importance = abs(model.coef_[0])\n",
    "    feature_importance = 100.0 * (feature_importance / feature_importance.max())\n",
    "    sorted_idx = np.argsort(feature_importance)[-n_features:]\n",
    "    pos = np.arange(sorted_idx.shape[0]) + .5\n",
    "\n",
    "    featfig = plt.figure()\n",
    "    featax = featfig.add_subplot(1, 1, 1)\n",
    "    featax.barh(pos, feature_importance[sorted_idx], align='center')\n",
    "    featax.set_yticks(pos)\n",
    "    featax.set_yticklabels(np.array(X.columns)[sorted_idx], fontsize=8)\n",
    "    featax.set_xlabel('Relative Feature Importance')\n",
    "\n",
    "    plt.tight_layout()   \n",
    "    plt.show()"
   ]
  },
  {
   "cell_type": "code",
   "execution_count": 6,
   "metadata": {},
   "outputs": [
    {
     "name": "stderr",
     "output_type": "stream",
     "text": [
      "/Users/hugues/anaconda3/lib/python3.7/site-packages/sklearn/linear_model/logistic.py:433: FutureWarning: Default solver will be changed to 'lbfgs' in 0.22. Specify a solver to silence this warning.\n",
      "  FutureWarning)\n"
     ]
    },
    {
     "data": {
      "text/plain": [
       "LogisticRegression(C=1.0, class_weight=None, dual=False, fit_intercept=True,\n",
       "          intercept_scaling=1, max_iter=100, multi_class='warn',\n",
       "          n_jobs=None, penalty='l2', random_state=None, solver='warn',\n",
       "          tol=0.0001, verbose=0, warm_start=False)"
      ]
     },
     "execution_count": 6,
     "metadata": {},
     "output_type": "execute_result"
    }
   ],
   "source": [
    "model1 = LogisticRegression(penalty='l2')\n",
    "\n",
    "model1.fit(X_bw_train, Gen_train)"
   ]
  },
  {
   "cell_type": "code",
   "execution_count": 7,
   "metadata": {},
   "outputs": [
    {
     "data": {
      "image/png": "[encoded data removed]",
      "text/plain": [
       "<Figure size 432x288 with 1 Axes>"
      ]
     },
     "metadata": {
      "needs_background": "light"
     },
     "output_type": "display_data"
    }
   ],
   "source": [
    "feature_importance_logreg(model1, X_bw)"
   ]
  },
  {
   "cell_type": "code",
   "execution_count": 8,
   "metadata": {},
   "outputs": [
    {
     "name": "stdout",
     "output_type": "stream",
     "text": [
      "Accuracy of classifier with gender informations on Gender prediction:\n",
      "0.9972552607502287\n"
     ]
    }
   ],
   "source": [
    "print('Accuracy of classifier with gender informations on Gender prediction:')\n",
    "print(accuracy_score(Gen_test, model1.predict(X_bw_test)))"
   ]
  },
  {
   "cell_type": "markdown",
   "metadata": {},
   "source": [
    "### Without Gender information"
   ]
  },
  {
   "cell_type": "code",
   "execution_count": 5,
   "metadata": {},
   "outputs": [
    {
     "name": "stderr",
     "output_type": "stream",
     "text": [
      "/Users/hugues/anaconda3/lib/python3.7/site-packages/sklearn/linear_model/logistic.py:433: FutureWarning: Default solver will be changed to 'lbfgs' in 0.22. Specify a solver to silence this warning.\n",
      "  FutureWarning)\n"
     ]
    },
    {
     "data": {
      "text/plain": [
       "LogisticRegression(C=1.0, class_weight=None, dual=False, fit_intercept=True,\n",
       "          intercept_scaling=1, max_iter=100, multi_class='warn',\n",
       "          n_jobs=None, penalty='l2', random_state=None, solver='warn',\n",
       "          tol=0.0001, verbose=0, warm_start=False)"
      ]
     },
     "execution_count": 5,
     "metadata": {},
     "output_type": "execute_result"
    }
   ],
   "source": [
    "model2 = LogisticRegression(penalty='l2')\n",
    "\n",
    "model2.fit(X_bw_nogen_train, Gen_train)"
   ]
  },
  {
   "cell_type": "code",
   "execution_count": 6,
   "metadata": {},
   "outputs": [
    {
     "data": {
      "image/png": "[encoded data removed]",
      "text/plain": [
       "<Figure size 432x288 with 1 Axes>"
      ]
     },
     "metadata": {
      "needs_background": "light"
     },
     "output_type": "display_data"
    }
   ],
   "source": [
    "feature_importance_logreg(model2, X_bw_nogen)"
   ]
  },
  {
   "cell_type": "code",
   "execution_count": 7,
   "metadata": {},
   "outputs": [
    {
     "name": "stdout",
     "output_type": "stream",
     "text": [
      "Accuracy of classifier without gender informations on Gender prediction:\n",
      "0.7191216834400732\n"
     ]
    }
   ],
   "source": [
    "print('Accuracy of classifier without gender informations on Gender prediction:')\n",
    "print(accuracy_score(Gen_test, model2.predict(X_bw_nogen_test)))"
   ]
  },
  {
   "cell_type": "markdown",
   "metadata": {},
   "source": [
    "Our gender information removal is therefore not perfect (score is higher than 0.5)."
   ]
  },
  {
   "cell_type": "markdown",
   "metadata": {},
   "source": [
    "## Fasttext encoding"
   ]
  },
  {
   "cell_type": "markdown",
   "metadata": {},
   "source": [
    "### With Gender information"
   ]
  },
  {
   "cell_type": "code",
   "execution_count": 10,
   "metadata": {},
   "outputs": [
    {
     "name": "stdout",
     "output_type": "stream",
     "text": [
      "Accuracy of classifier with gender informations on Gender prediction:\n",
      "0.8565416285452881\n"
     ]
    }
   ],
   "source": [
    "model3 = LogisticRegression(penalty='l2', solver='newton-cg')\n",
    "\n",
    "model3.fit(X_fasttext_train, Gen_train)\n",
    "\n",
    "print('Accuracy of classifier with gender informations on Gender prediction:')\n",
    "print(accuracy_score(Gen_test, model3.predict(X_fasttext_test)))"
   ]
  },
  {
   "cell_type": "markdown",
   "metadata": {},
   "source": [
    "### Without Gender information"
   ]
  },
  {
   "cell_type": "code",
   "execution_count": 11,
   "metadata": {},
   "outputs": [
    {
     "name": "stdout",
     "output_type": "stream",
     "text": [
      "Accuracy of classifier without gender informations on Gender prediction:\n",
      "0.6589204025617567\n"
     ]
    }
   ],
   "source": [
    "model4 = LogisticRegression(penalty='l2', solver='newton-cg')\n",
    "\n",
    "model4.fit(X_fasttext_nogen_train, Gen_train)\n",
    "\n",
    "print('Accuracy of classifier without gender informations on Gender prediction:')\n",
    "print(accuracy_score(Gen_test, model3.predict(X_fasttext_nogen_test)))"
   ]
  },
  {
   "cell_type": "markdown",
   "metadata": {},
   "source": [
    "Fasttext encodings appear to give lower results on gender prediction than Bag of Words. This can probably be explained by the effects of the averaging that tend to lower the importance of decisive wo"
   ]
  },
  {
   "cell_type": "markdown",
   "metadata": {},
   "source": [
    "#### With boosting models:"
   ]
  },
  {
   "cell_type": "code",
   "execution_count": 12,
   "metadata": {},
   "outputs": [
    {
     "name": "stdout",
     "output_type": "stream",
     "text": [
      "[0]\tvalidation_0-error:0.395985\tvalidation_1-error:0.402122\n",
      "Multiple eval metrics have been passed: 'validation_1-error' will be used for early stopping.\n",
      "\n",
      "Will train until validation_1-error hasn't improved in 30 rounds.\n",
      "[1]\tvalidation_0-error:0.381659\tvalidation_1-error:0.392609\n",
      "[2]\tvalidation_0-error:0.379202\tvalidation_1-error:0.392975\n",
      "[3]\tvalidation_0-error:0.376274\tvalidation_1-error:0.387486\n",
      "[4]\tvalidation_0-error:0.375438\tvalidation_1-error:0.387486\n",
      "[5]\tvalidation_0-error:0.373137\tvalidation_1-error:0.381998\n",
      "[6]\tvalidation_0-error:0.369112\tvalidation_1-error:0.384559\n",
      "[7]\tvalidation_0-error:0.36702\tvalidation_1-error:0.381632\n",
      "[8]\tvalidation_0-error:0.364563\tvalidation_1-error:0.385657\n",
      "[9]\tvalidation_0-error:0.360119\tvalidation_1-error:0.383461\n",
      "[10]\tvalidation_0-error:0.358812\tvalidation_1-error:0.383096\n",
      "[11]\tvalidation_0-error:0.356564\tvalidation_1-error:0.381266\n",
      "[12]\tvalidation_0-error:0.355571\tvalidation_1-error:0.377241\n",
      "[13]\tvalidation_0-error:0.355152\tvalidation_1-error:0.375046\n",
      "[14]\tvalidation_0-error:0.352747\tvalidation_1-error:0.376509\n",
      "[15]\tvalidation_0-error:0.351022\tvalidation_1-error:0.376875\n",
      "[16]\tvalidation_0-error:0.350604\tvalidation_1-error:0.375046\n",
      "[17]\tvalidation_0-error:0.351074\tvalidation_1-error:0.378705\n",
      "[18]\tvalidation_0-error:0.348826\tvalidation_1-error:0.375778\n",
      "[19]\tvalidation_0-error:0.348983\tvalidation_1-error:0.372484\n",
      "[20]\tvalidation_0-error:0.345533\tvalidation_1-error:0.373216\n",
      "[21]\tvalidation_0-error:0.345533\tvalidation_1-error:0.37468\n",
      "[22]\tvalidation_0-error:0.34433\tvalidation_1-error:0.373582\n",
      "[23]\tvalidation_0-error:0.343546\tvalidation_1-error:0.372119\n",
      "[24]\tvalidation_0-error:0.341402\tvalidation_1-error:0.375046\n",
      "[25]\tvalidation_0-error:0.34067\tvalidation_1-error:0.370655\n",
      "[26]\tvalidation_0-error:0.341141\tvalidation_1-error:0.372484\n",
      "[27]\tvalidation_0-error:0.340252\tvalidation_1-error:0.369923\n",
      "[28]\tvalidation_0-error:0.339415\tvalidation_1-error:0.368094\n",
      "[29]\tvalidation_0-error:0.338736\tvalidation_1-error:0.36663\n",
      "[30]\tvalidation_0-error:0.337847\tvalidation_1-error:0.367362\n",
      "[31]\tvalidation_0-error:0.336122\tvalidation_1-error:0.369191\n",
      "[32]\tvalidation_0-error:0.334396\tvalidation_1-error:0.371021\n",
      "[33]\tvalidation_0-error:0.334972\tvalidation_1-error:0.368094\n",
      "[34]\tvalidation_0-error:0.333351\tvalidation_1-error:0.371021\n",
      "[35]\tvalidation_0-error:0.332933\tvalidation_1-error:0.371021\n",
      "[36]\tvalidation_0-error:0.331155\tvalidation_1-error:0.36663\n",
      "[37]\tvalidation_0-error:0.330893\tvalidation_1-error:0.364801\n",
      "[38]\tvalidation_0-error:0.330475\tvalidation_1-error:0.364069\n",
      "[39]\tvalidation_0-error:0.328279\tvalidation_1-error:0.364801\n",
      "[40]\tvalidation_0-error:0.325718\tvalidation_1-error:0.362239\n",
      "[41]\tvalidation_0-error:0.324672\tvalidation_1-error:0.360776\n",
      "[42]\tvalidation_0-error:0.325299\tvalidation_1-error:0.36041\n",
      "[43]\tvalidation_0-error:0.324254\tvalidation_1-error:0.362605\n",
      "[44]\tvalidation_0-error:0.324306\tvalidation_1-error:0.363703\n",
      "[45]\tvalidation_0-error:0.323313\tvalidation_1-error:0.363703\n",
      "[46]\tvalidation_0-error:0.322685\tvalidation_1-error:0.362239\n",
      "[47]\tvalidation_0-error:0.321012\tvalidation_1-error:0.360776\n",
      "[48]\tvalidation_0-error:0.320594\tvalidation_1-error:0.363703\n",
      "[49]\tvalidation_0-error:0.320071\tvalidation_1-error:0.364069\n",
      "[50]\tvalidation_0-error:0.318659\tvalidation_1-error:0.364435\n",
      "[51]\tvalidation_0-error:0.316516\tvalidation_1-error:0.362971\n",
      "[52]\tvalidation_0-error:0.314425\tvalidation_1-error:0.362239\n",
      "[53]\tvalidation_0-error:0.313222\tvalidation_1-error:0.364069\n",
      "[54]\tvalidation_0-error:0.311131\tvalidation_1-error:0.360044\n",
      "[55]\tvalidation_0-error:0.310974\tvalidation_1-error:0.358946\n",
      "[56]\tvalidation_0-error:0.30951\tvalidation_1-error:0.360776\n",
      "[57]\tvalidation_0-error:0.308098\tvalidation_1-error:0.360044\n",
      "[58]\tvalidation_0-error:0.307419\tvalidation_1-error:0.361142\n",
      "[59]\tvalidation_0-error:0.306582\tvalidation_1-error:0.359678\n",
      "[60]\tvalidation_0-error:0.305328\tvalidation_1-error:0.364069\n",
      "[61]\tvalidation_0-error:0.304648\tvalidation_1-error:0.362605\n",
      "[62]\tvalidation_0-error:0.30423\tvalidation_1-error:0.362239\n",
      "[63]\tvalidation_0-error:0.302766\tvalidation_1-error:0.358214\n",
      "[64]\tvalidation_0-error:0.302609\tvalidation_1-error:0.356385\n",
      "[65]\tvalidation_0-error:0.302191\tvalidation_1-error:0.358946\n",
      "[66]\tvalidation_0-error:0.301877\tvalidation_1-error:0.357483\n",
      "[67]\tvalidation_0-error:0.302243\tvalidation_1-error:0.357849\n",
      "[68]\tvalidation_0-error:0.301981\tvalidation_1-error:0.356019\n",
      "[69]\tvalidation_0-error:0.301616\tvalidation_1-error:0.356751\n",
      "[70]\tvalidation_0-error:0.301145\tvalidation_1-error:0.357849\n",
      "[71]\tvalidation_0-error:0.300099\tvalidation_1-error:0.356385\n",
      "[72]\tvalidation_0-error:0.30057\tvalidation_1-error:0.354921\n",
      "[73]\tvalidation_0-error:0.29942\tvalidation_1-error:0.355287\n",
      "[74]\tvalidation_0-error:0.298845\tvalidation_1-error:0.358946\n",
      "[75]\tvalidation_0-error:0.296701\tvalidation_1-error:0.359312\n",
      "[76]\tvalidation_0-error:0.297067\tvalidation_1-error:0.360044\n",
      "[77]\tvalidation_0-error:0.296074\tvalidation_1-error:0.357849\n",
      "[78]\tvalidation_0-error:0.295917\tvalidation_1-error:0.356385\n",
      "[79]\tvalidation_0-error:0.296126\tvalidation_1-error:0.358214\n",
      "[80]\tvalidation_0-error:0.29508\tvalidation_1-error:0.356751\n",
      "[81]\tvalidation_0-error:0.29461\tvalidation_1-error:0.354555\n",
      "[82]\tvalidation_0-error:0.293303\tvalidation_1-error:0.356019\n",
      "[83]\tvalidation_0-error:0.293407\tvalidation_1-error:0.356019\n",
      "[84]\tvalidation_0-error:0.2921\tvalidation_1-error:0.358214\n",
      "[85]\tvalidation_0-error:0.291891\tvalidation_1-error:0.356751\n",
      "[86]\tvalidation_0-error:0.291577\tvalidation_1-error:0.357849\n",
      "[87]\tvalidation_0-error:0.290741\tvalidation_1-error:0.357483\n",
      "[88]\tvalidation_0-error:0.289591\tvalidation_1-error:0.357117\n",
      "[89]\tvalidation_0-error:0.28912\tvalidation_1-error:0.357849\n",
      "[90]\tvalidation_0-error:0.288022\tvalidation_1-error:0.357117\n",
      "[91]\tvalidation_0-error:0.288022\tvalidation_1-error:0.358946\n",
      "[92]\tvalidation_0-error:0.286924\tvalidation_1-error:0.357849\n",
      "[93]\tvalidation_0-error:0.286767\tvalidation_1-error:0.356751\n",
      "[94]\tvalidation_0-error:0.28682\tvalidation_1-error:0.354921\n",
      "[95]\tvalidation_0-error:0.285774\tvalidation_1-error:0.356385\n",
      "[96]\tvalidation_0-error:0.284624\tvalidation_1-error:0.356751\n",
      "[97]\tvalidation_0-error:0.284467\tvalidation_1-error:0.355653\n",
      "[98]\tvalidation_0-error:0.284624\tvalidation_1-error:0.356019\n",
      "[99]\tvalidation_0-error:0.284415\tvalidation_1-error:0.357483\n",
      "[100]\tvalidation_0-error:0.284153\tvalidation_1-error:0.356751\n",
      "[101]\tvalidation_0-error:0.284153\tvalidation_1-error:0.354921\n",
      "[102]\tvalidation_0-error:0.283578\tvalidation_1-error:0.355287\n",
      "[103]\tvalidation_0-error:0.282376\tvalidation_1-error:0.356385\n",
      "[104]\tvalidation_0-error:0.281957\tvalidation_1-error:0.355287\n",
      "[105]\tvalidation_0-error:0.281435\tvalidation_1-error:0.353458\n",
      "[106]\tvalidation_0-error:0.281016\tvalidation_1-error:0.354555\n",
      "[107]\tvalidation_0-error:0.280964\tvalidation_1-error:0.354921\n",
      "[108]\tvalidation_0-error:0.280389\tvalidation_1-error:0.355287\n",
      "[109]\tvalidation_0-error:0.28018\tvalidation_1-error:0.354921\n",
      "[110]\tvalidation_0-error:0.279343\tvalidation_1-error:0.355287\n",
      "[111]\tvalidation_0-error:0.278559\tvalidation_1-error:0.357117\n",
      "[112]\tvalidation_0-error:0.278559\tvalidation_1-error:0.356385\n",
      "[113]\tvalidation_0-error:0.277618\tvalidation_1-error:0.356385\n",
      "[114]\tvalidation_0-error:0.277618\tvalidation_1-error:0.356385\n",
      "[115]\tvalidation_0-error:0.277095\tvalidation_1-error:0.356019\n",
      "[116]\tvalidation_0-error:0.277566\tvalidation_1-error:0.355287\n",
      "[117]\tvalidation_0-error:0.277252\tvalidation_1-error:0.355653\n",
      "[118]\tvalidation_0-error:0.277095\tvalidation_1-error:0.354921\n",
      "[119]\tvalidation_0-error:0.277043\tvalidation_1-error:0.355287\n",
      "[120]\tvalidation_0-error:0.276206\tvalidation_1-error:0.355287\n",
      "[121]\tvalidation_0-error:0.275422\tvalidation_1-error:0.35419\n",
      "[122]\tvalidation_0-error:0.275213\tvalidation_1-error:0.353458\n",
      "[123]\tvalidation_0-error:0.275318\tvalidation_1-error:0.351994\n",
      "[124]\tvalidation_0-error:0.275056\tvalidation_1-error:0.351994\n",
      "[125]\tvalidation_0-error:0.274272\tvalidation_1-error:0.350896\n",
      "[126]\tvalidation_0-error:0.273697\tvalidation_1-error:0.35419\n",
      "[127]\tvalidation_0-error:0.272547\tvalidation_1-error:0.35419\n",
      "[128]\tvalidation_0-error:0.272965\tvalidation_1-error:0.354555\n",
      "[129]\tvalidation_0-error:0.272233\tvalidation_1-error:0.356385\n",
      "[130]\tvalidation_0-error:0.272024\tvalidation_1-error:0.354921\n",
      "[131]\tvalidation_0-error:0.271083\tvalidation_1-error:0.355653\n"
     ]
    },
    {
     "name": "stdout",
     "output_type": "stream",
     "text": [
      "[132]\tvalidation_0-error:0.270978\tvalidation_1-error:0.355287\n",
      "[133]\tvalidation_0-error:0.270508\tvalidation_1-error:0.354921\n",
      "[134]\tvalidation_0-error:0.270508\tvalidation_1-error:0.356019\n",
      "[135]\tvalidation_0-error:0.269305\tvalidation_1-error:0.354921\n",
      "[136]\tvalidation_0-error:0.269044\tvalidation_1-error:0.355287\n",
      "[137]\tvalidation_0-error:0.268416\tvalidation_1-error:0.356019\n",
      "[138]\tvalidation_0-error:0.267737\tvalidation_1-error:0.356751\n",
      "[139]\tvalidation_0-error:0.267214\tvalidation_1-error:0.356751\n",
      "[140]\tvalidation_0-error:0.266639\tvalidation_1-error:0.357117\n",
      "[141]\tvalidation_0-error:0.266639\tvalidation_1-error:0.356019\n",
      "[142]\tvalidation_0-error:0.265855\tvalidation_1-error:0.356019\n",
      "[143]\tvalidation_0-error:0.265593\tvalidation_1-error:0.355653\n",
      "[144]\tvalidation_0-error:0.265384\tvalidation_1-error:0.355653\n",
      "[145]\tvalidation_0-error:0.265123\tvalidation_1-error:0.35419\n",
      "[146]\tvalidation_0-error:0.264913\tvalidation_1-error:0.35419\n",
      "[147]\tvalidation_0-error:0.264757\tvalidation_1-error:0.351262\n",
      "[148]\tvalidation_0-error:0.264286\tvalidation_1-error:0.351994\n",
      "[149]\tvalidation_0-error:0.263763\tvalidation_1-error:0.351628\n",
      "[150]\tvalidation_0-error:0.26345\tvalidation_1-error:0.352726\n",
      "[151]\tvalidation_0-error:0.262404\tvalidation_1-error:0.351262\n",
      "[152]\tvalidation_0-error:0.261986\tvalidation_1-error:0.351628\n",
      "[153]\tvalidation_0-error:0.260992\tvalidation_1-error:0.35236\n",
      "[154]\tvalidation_0-error:0.261201\tvalidation_1-error:0.351994\n",
      "[155]\tvalidation_0-error:0.26026\tvalidation_1-error:0.350896\n",
      "Stopping. Best iteration:\n",
      "[125]\tvalidation_0-error:0.274272\tvalidation_1-error:0.350896\n",
      "\n"
     ]
    },
    {
     "data": {
      "text/plain": [
       "XGBClassifier(base_score=0.5, booster='gbtree', colsample_bylevel=1,\n",
       "       colsample_bynode=1, colsample_bytree=1, gamma=0, learning_rate=0.1,\n",
       "       max_delta_step=0, max_depth=3, min_child_weight=1, missing=None,\n",
       "       n_estimators=200, n_jobs=1, nthread=None,\n",
       "       objective='binary:logistic', random_state=0, reg_alpha=0,\n",
       "       reg_lambda=1, scale_pos_weight=1, seed=None, silent=None,\n",
       "       subsample=1, verbosity=1)"
      ]
     },
     "execution_count": 12,
     "metadata": {},
     "output_type": "execute_result"
    }
   ],
   "source": [
    "boost = xgboost.XGBClassifier(n_estimators=200, booster='gbtree')\n",
    "eval_set  = [(X_fasttext_nogen_train, Gen_train), (X_fasttext_nogen_eval, Gen_eval)]\n",
    "boost.fit(X_fasttext_nogen_train, Gen_train, eval_set=eval_set, eval_metric=\"error\", early_stopping_rounds=30, verbose=True)"
   ]
  },
  {
   "cell_type": "code",
   "execution_count": 13,
   "metadata": {},
   "outputs": [
    {
     "name": "stdout",
     "output_type": "stream",
     "text": [
      "Accuracy of classifier XGBoost without gender informations on Gender prediction:\n",
      "0.6627630375114364\n"
     ]
    }
   ],
   "source": [
    "print('Accuracy of classifier XGBoost without gender informations on Gender prediction:')\n",
    "print(accuracy_score(Gen_test, boost.predict(X_fasttext_nogen_test)))"
   ]
  },
  {
   "cell_type": "markdown",
   "metadata": {},
   "source": [
    "We improve the precision by 1% with XGBoost."
   ]
  }
 ],
 "metadata": {
  "kernelspec": {
   "display_name": "Python 3",
   "language": "python",
   "name": "python3"
  },
  "language_info": {
   "codemirror_mode": {
    "name": "ipython",
    "version": 3
   },
   "file_extension": ".py",
   "mimetype": "text/x-python",
   "name": "python",
   "nbconvert_exporter": "python",
   "pygments_lexer": "ipython3",
   "version": "3.7.1"
  }
 },
 "nbformat": 4,
 "nbformat_minor": 2
}
